{
 "cells": [
  {
   "cell_type": "markdown",
   "id": "arbitrary-gardening",
   "metadata": {},
   "source": [
    "### Solubility Prediction using Molecular Descriptors with RDKit"
   ]
  },
  {
   "cell_type": "code",
   "execution_count": 1,
   "id": "small-negative",
   "metadata": {},
   "outputs": [],
   "source": [
    "import os, math\n",
    "import pandas as pd\n",
    "import numpy as np\n",
    "\n",
    "import rdkit\n",
    "import deepchem as dc\n",
    "\n",
    "# plotting\n",
    "import seaborn as sns\n",
    "import matplotlib.pyplot as plt"
   ]
  },
  {
   "cell_type": "code",
   "execution_count": 2,
   "id": "dietary-heading",
   "metadata": {},
   "outputs": [],
   "source": [
    "df = pd.read_csv(\"Dataset/raw/solubility-dataset.csv\")"
   ]
  },
  {
   "cell_type": "code",
   "execution_count": 3,
   "id": "completed-chapel",
   "metadata": {},
   "outputs": [],
   "source": [
    "# Is soluble if logS > math.log10(200 * 1e-6)\n",
    "df[\"isSoluble\"] = (df.Solubility > math.log10(200*1e-6)).astype(int)"
   ]
  },
  {
   "cell_type": "markdown",
   "id": "employed-opinion",
   "metadata": {},
   "source": [
    "#### RDKit molecular descriptors based features\n",
    "\n",
    "- Use DeepChem featurizer with RDKitDescriptors\n",
    "- Generates 208 features with both use_fragment and ipc_avg\n",
    "- Here, we generate 123 different descriptors in total for evey molecules"
   ]
  },
  {
   "cell_type": "code",
   "execution_count": 14,
   "id": "pharmaceutical-blink",
   "metadata": {},
   "outputs": [],
   "source": [
    "# DeepChem RDKit descriptors\n",
    "rdkit_featurizer = dc.feat.RDKitDescriptors(use_fragment=False, ipc_avg=False)\n",
    "features = rdkit_featurizer(df.SMILES) # with one molecule"
   ]
  },
  {
   "cell_type": "code",
   "execution_count": 15,
   "id": "ranking-token",
   "metadata": {},
   "outputs": [
    {
     "data": {
      "text/plain": [
       "(9982, 123)"
      ]
     },
     "execution_count": 15,
     "metadata": {},
     "output_type": "execute_result"
    }
   ],
   "source": [
    "features.shape"
   ]
  },
  {
   "cell_type": "code",
   "execution_count": 17,
   "id": "superb-secondary",
   "metadata": {},
   "outputs": [],
   "source": [
    "# Creating the feature dataset\n",
    "\n",
    "column_names = rdkit_featurizer.descriptors\n",
    "\n",
    "df0 = pd.DataFrame(data=features)\n",
    "df0.columns = column_names\n",
    "\n",
    "# adding molecule ids and solubility columns\n",
    "df0.insert(0, \"ID\", df.ID)\n",
    "df0[\"Solubility\"] = df.Solubility\n",
    "df0[\"isSoluble\"] = df.isSoluble"
   ]
  },
  {
   "cell_type": "code",
   "execution_count": 18,
   "id": "productive-sector",
   "metadata": {},
   "outputs": [
    {
     "data": {
      "text/plain": [
       "Index(['ID', 'MaxEStateIndex', 'MinEStateIndex', 'MaxAbsEStateIndex',\n",
       "       'MinAbsEStateIndex', 'qed', 'MolWt', 'HeavyAtomMolWt', 'ExactMolWt',\n",
       "       'NumValenceElectrons',\n",
       "       ...\n",
       "       'NumHeteroatoms', 'NumRotatableBonds', 'NumSaturatedCarbocycles',\n",
       "       'NumSaturatedHeterocycles', 'NumSaturatedRings', 'RingCount', 'MolLogP',\n",
       "       'MolMR', 'Solubility', 'isSoluble'],\n",
       "      dtype='object', length=126)"
      ]
     },
     "execution_count": 18,
     "metadata": {},
     "output_type": "execute_result"
    }
   ],
   "source": [
    "df0.columns"
   ]
  },
  {
   "cell_type": "code",
   "execution_count": 23,
   "id": "express-rings",
   "metadata": {},
   "outputs": [
    {
     "data": {
      "text/html": [
       "<div>\n",
       "<style scoped>\n",
       "    .dataframe tbody tr th:only-of-type {\n",
       "        vertical-align: middle;\n",
       "    }\n",
       "\n",
       "    .dataframe tbody tr th {\n",
       "        vertical-align: top;\n",
       "    }\n",
       "\n",
       "    .dataframe thead th {\n",
       "        text-align: right;\n",
       "    }\n",
       "</style>\n",
       "<table border=\"1\" class=\"dataframe\">\n",
       "  <thead>\n",
       "    <tr style=\"text-align: right;\">\n",
       "      <th></th>\n",
       "      <th>ID</th>\n",
       "      <th>MaxEStateIndex</th>\n",
       "      <th>MinEStateIndex</th>\n",
       "      <th>MaxAbsEStateIndex</th>\n",
       "      <th>MinAbsEStateIndex</th>\n",
       "      <th>qed</th>\n",
       "      <th>MolWt</th>\n",
       "      <th>HeavyAtomMolWt</th>\n",
       "      <th>ExactMolWt</th>\n",
       "      <th>NumValenceElectrons</th>\n",
       "      <th>...</th>\n",
       "      <th>NumHeteroatoms</th>\n",
       "      <th>NumRotatableBonds</th>\n",
       "      <th>NumSaturatedCarbocycles</th>\n",
       "      <th>NumSaturatedHeterocycles</th>\n",
       "      <th>NumSaturatedRings</th>\n",
       "      <th>RingCount</th>\n",
       "      <th>MolLogP</th>\n",
       "      <th>MolMR</th>\n",
       "      <th>Solubility</th>\n",
       "      <th>isSoluble</th>\n",
       "    </tr>\n",
       "  </thead>\n",
       "  <tbody>\n",
       "    <tr>\n",
       "      <th>0</th>\n",
       "      <td>A-3</td>\n",
       "      <td>2.296832</td>\n",
       "      <td>0.000000</td>\n",
       "      <td>2.296832</td>\n",
       "      <td>0.000000</td>\n",
       "      <td>0.259676</td>\n",
       "      <td>392.510</td>\n",
       "      <td>346.142</td>\n",
       "      <td>391.281363</td>\n",
       "      <td>142.0</td>\n",
       "      <td>...</td>\n",
       "      <td>2.0</td>\n",
       "      <td>17.0</td>\n",
       "      <td>0.0</td>\n",
       "      <td>0.0</td>\n",
       "      <td>0.0</td>\n",
       "      <td>0.0</td>\n",
       "      <td>3.9581</td>\n",
       "      <td>102.4454</td>\n",
       "      <td>-3.616127</td>\n",
       "      <td>1</td>\n",
       "    </tr>\n",
       "    <tr>\n",
       "      <th>1</th>\n",
       "      <td>A-4</td>\n",
       "      <td>11.435093</td>\n",
       "      <td>0.006296</td>\n",
       "      <td>11.435093</td>\n",
       "      <td>0.006296</td>\n",
       "      <td>0.644215</td>\n",
       "      <td>169.183</td>\n",
       "      <td>162.127</td>\n",
       "      <td>169.052764</td>\n",
       "      <td>62.0</td>\n",
       "      <td>...</td>\n",
       "      <td>2.0</td>\n",
       "      <td>0.0</td>\n",
       "      <td>0.0</td>\n",
       "      <td>0.0</td>\n",
       "      <td>0.0</td>\n",
       "      <td>3.0</td>\n",
       "      <td>2.4055</td>\n",
       "      <td>51.9012</td>\n",
       "      <td>-3.254767</td>\n",
       "      <td>1</td>\n",
       "    </tr>\n",
       "    <tr>\n",
       "      <th>2</th>\n",
       "      <td>A-5</td>\n",
       "      <td>10.074698</td>\n",
       "      <td>0.652222</td>\n",
       "      <td>10.074698</td>\n",
       "      <td>0.652222</td>\n",
       "      <td>0.546650</td>\n",
       "      <td>140.569</td>\n",
       "      <td>135.529</td>\n",
       "      <td>140.002892</td>\n",
       "      <td>46.0</td>\n",
       "      <td>...</td>\n",
       "      <td>2.0</td>\n",
       "      <td>1.0</td>\n",
       "      <td>0.0</td>\n",
       "      <td>0.0</td>\n",
       "      <td>0.0</td>\n",
       "      <td>1.0</td>\n",
       "      <td>2.1525</td>\n",
       "      <td>36.8395</td>\n",
       "      <td>-2.177078</td>\n",
       "      <td>1</td>\n",
       "    </tr>\n",
       "    <tr>\n",
       "      <th>3</th>\n",
       "      <td>A-8</td>\n",
       "      <td>11.573312</td>\n",
       "      <td>-1.369330</td>\n",
       "      <td>11.573312</td>\n",
       "      <td>0.000000</td>\n",
       "      <td>0.136407</td>\n",
       "      <td>756.226</td>\n",
       "      <td>713.890</td>\n",
       "      <td>754.227281</td>\n",
       "      <td>264.0</td>\n",
       "      <td>...</td>\n",
       "      <td>7.0</td>\n",
       "      <td>10.0</td>\n",
       "      <td>0.0</td>\n",
       "      <td>0.0</td>\n",
       "      <td>0.0</td>\n",
       "      <td>6.0</td>\n",
       "      <td>8.1161</td>\n",
       "      <td>200.7106</td>\n",
       "      <td>-3.924409</td>\n",
       "      <td>0</td>\n",
       "    </tr>\n",
       "    <tr>\n",
       "      <th>4</th>\n",
       "      <td>A-9</td>\n",
       "      <td>5.440876</td>\n",
       "      <td>0.383760</td>\n",
       "      <td>5.440876</td>\n",
       "      <td>0.383760</td>\n",
       "      <td>0.490100</td>\n",
       "      <td>422.525</td>\n",
       "      <td>392.285</td>\n",
       "      <td>422.220557</td>\n",
       "      <td>164.0</td>\n",
       "      <td>...</td>\n",
       "      <td>6.0</td>\n",
       "      <td>12.0</td>\n",
       "      <td>0.0</td>\n",
       "      <td>4.0</td>\n",
       "      <td>4.0</td>\n",
       "      <td>6.0</td>\n",
       "      <td>2.4854</td>\n",
       "      <td>119.0760</td>\n",
       "      <td>-4.662065</td>\n",
       "      <td>0</td>\n",
       "    </tr>\n",
       "  </tbody>\n",
       "</table>\n",
       "<p>5 rows × 126 columns</p>\n",
       "</div>"
      ],
      "text/plain": [
       "    ID  MaxEStateIndex  MinEStateIndex  MaxAbsEStateIndex  MinAbsEStateIndex  \\\n",
       "0  A-3        2.296832        0.000000           2.296832           0.000000   \n",
       "1  A-4       11.435093        0.006296          11.435093           0.006296   \n",
       "2  A-5       10.074698        0.652222          10.074698           0.652222   \n",
       "3  A-8       11.573312       -1.369330          11.573312           0.000000   \n",
       "4  A-9        5.440876        0.383760           5.440876           0.383760   \n",
       "\n",
       "        qed    MolWt  HeavyAtomMolWt  ExactMolWt  NumValenceElectrons  ...  \\\n",
       "0  0.259676  392.510         346.142  391.281363                142.0  ...   \n",
       "1  0.644215  169.183         162.127  169.052764                 62.0  ...   \n",
       "2  0.546650  140.569         135.529  140.002892                 46.0  ...   \n",
       "3  0.136407  756.226         713.890  754.227281                264.0  ...   \n",
       "4  0.490100  422.525         392.285  422.220557                164.0  ...   \n",
       "\n",
       "   NumHeteroatoms  NumRotatableBonds  NumSaturatedCarbocycles  \\\n",
       "0             2.0               17.0                      0.0   \n",
       "1             2.0                0.0                      0.0   \n",
       "2             2.0                1.0                      0.0   \n",
       "3             7.0               10.0                      0.0   \n",
       "4             6.0               12.0                      0.0   \n",
       "\n",
       "   NumSaturatedHeterocycles  NumSaturatedRings  RingCount  MolLogP     MolMR  \\\n",
       "0                       0.0                0.0        0.0   3.9581  102.4454   \n",
       "1                       0.0                0.0        3.0   2.4055   51.9012   \n",
       "2                       0.0                0.0        1.0   2.1525   36.8395   \n",
       "3                       0.0                0.0        6.0   8.1161  200.7106   \n",
       "4                       4.0                4.0        6.0   2.4854  119.0760   \n",
       "\n",
       "   Solubility  isSoluble  \n",
       "0   -3.616127          1  \n",
       "1   -3.254767          1  \n",
       "2   -2.177078          1  \n",
       "3   -3.924409          0  \n",
       "4   -4.662065          0  \n",
       "\n",
       "[5 rows x 126 columns]"
      ]
     },
     "execution_count": 23,
     "metadata": {},
     "output_type": "execute_result"
    }
   ],
   "source": [
    "df0.head()"
   ]
  },
  {
   "cell_type": "code",
   "execution_count": 91,
   "id": "patent-selection",
   "metadata": {},
   "outputs": [],
   "source": [
    "from sklearn.model_selection import train_test_split\n",
    "from sklearn.metrics import classification_report, confusion_matrix, mean_squared_error, mean_absolute_error\n",
    "import lightgbm as lgb\n",
    "from lightgbm import Dataset\n",
    "# from utils file\n",
    "from utils import plot_confusion_matrix, draw_roc_curve"
   ]
  },
  {
   "cell_type": "code",
   "execution_count": 77,
   "id": "composed-strain",
   "metadata": {},
   "outputs": [],
   "source": [
    "# training data\n",
    "y = df0.isSoluble\n",
    "X = df0.drop(columns=[\"ID\", \"Solubility\", \"isSoluble\"])"
   ]
  },
  {
   "cell_type": "code",
   "execution_count": 78,
   "id": "approximate-telescope",
   "metadata": {},
   "outputs": [],
   "source": [
    "X_train, X_test, y_train, y_test = train_test_split(X, y, test_size=0.15)"
   ]
  },
  {
   "cell_type": "code",
   "execution_count": 79,
   "id": "fluid-symposium",
   "metadata": {},
   "outputs": [],
   "source": [
    "train_data = Dataset(X_train, label=y_train)\n",
    "test_data = Dataset(X_test, label=y_test)"
   ]
  },
  {
   "cell_type": "code",
   "execution_count": 80,
   "id": "eleven-milton",
   "metadata": {},
   "outputs": [],
   "source": [
    "params = {\n",
    "            \"objective\": \"binary\",\n",
    "            \"is_unbalance\": \"true\",\n",
    "            \"boosting_type\": \"dart\",\n",
    "            \"bagging_ratio\": 0.6,\n",
    "            \"feature_fraction\": 0.6,\n",
    "            \"metric\": [\"auc\"],\n",
    "        }"
   ]
  },
  {
   "cell_type": "code",
   "execution_count": 81,
   "id": "right-capacity",
   "metadata": {},
   "outputs": [
    {
     "name": "stdout",
     "output_type": "stream",
     "text": [
      "[LightGBM] [Warning] Unknown parameter: bagging_ratio\n",
      "[LightGBM] [Warning] Unknown parameter: bagging_ratio\n",
      "[LightGBM] [Info] Number of positive: 5650, number of negative: 2834\n",
      "[LightGBM] [Warning] Auto-choosing col-wise multi-threading, the overhead of testing was 0.007751 seconds.\n",
      "You can set `force_col_wise=true` to remove the overhead.\n",
      "[LightGBM] [Info] Total Bins 23506\n",
      "[LightGBM] [Info] Number of data points in the train set: 8484, number of used features: 121\n",
      "[LightGBM] [Warning] Unknown parameter: bagging_ratio\n",
      "[LightGBM] [Info] [binary:BoostFromScore]: pavg=0.665959 -> initscore=0.689966\n",
      "[LightGBM] [Info] Start training from score 0.689966\n",
      "[100]\ttraining's auc: 0.989408\tvalid_0's auc: 0.973171\n",
      "[200]\ttraining's auc: 0.996008\tvalid_0's auc: 0.974912\n",
      "[300]\ttraining's auc: 0.998886\tvalid_0's auc: 0.975681\n",
      "[400]\ttraining's auc: 0.999695\tvalid_0's auc: 0.976854\n",
      "[500]\ttraining's auc: 0.999952\tvalid_0's auc: 0.977098\n",
      "[600]\ttraining's auc: 0.999984\tvalid_0's auc: 0.976826\n",
      "[700]\ttraining's auc: 0.999995\tvalid_0's auc: 0.97662\n",
      "[800]\ttraining's auc: 0.999997\tvalid_0's auc: 0.976927\n",
      "[900]\ttraining's auc: 0.999997\tvalid_0's auc: 0.97622\n",
      "[1000]\ttraining's auc: 0.999997\tvalid_0's auc: 0.976343\n",
      "[1100]\ttraining's auc: 0.999997\tvalid_0's auc: 0.976497\n",
      "[1200]\ttraining's auc: 0.999997\tvalid_0's auc: 0.976475\n"
     ]
    }
   ],
   "source": [
    "# training a LightGBM model\n",
    "model = lgb.train(params=params,\n",
    "                 train_set=train_data,\n",
    "                 valid_sets=[test_data, train_data],\n",
    "                  num_boost_round=1200,\n",
    "                  verbose_eval=100\n",
    "                 )"
   ]
  },
  {
   "cell_type": "code",
   "execution_count": 82,
   "id": "historical-editor",
   "metadata": {},
   "outputs": [],
   "source": [
    "y_proba = model.predict(X_test)"
   ]
  },
  {
   "cell_type": "code",
   "execution_count": 83,
   "id": "varied-clock",
   "metadata": {},
   "outputs": [
    {
     "data": {
      "image/png": "[encoded data removed]",
      "text/plain": [
       "<Figure size 432x288 with 1 Axes>"
      ]
     },
     "metadata": {
      "needs_background": "light"
     },
     "output_type": "display_data"
    }
   ],
   "source": [
    "tmp = pd.DataFrame(data={\"y_true\":  y_test, \"y_proba\": y_proba})\n",
    "sns.histplot(x=\"y_proba\", hue=\"y_true\", data=tmp, bins=25);"
   ]
  },
  {
   "cell_type": "code",
   "execution_count": 92,
   "id": "approximate-gabriel",
   "metadata": {},
   "outputs": [
    {
     "data": {
      "image/png": "[encoded data removed]",
      "text/plain": [
       "<Figure size 432x288 with 1 Axes>"
      ]
     },
     "metadata": {
      "needs_background": "light"
     },
     "output_type": "display_data"
    }
   ],
   "source": [
    "draw_roc_curve(y_test, y_proba)"
   ]
  },
  {
   "cell_type": "code",
   "execution_count": 84,
   "id": "ready-escape",
   "metadata": {},
   "outputs": [],
   "source": [
    "y_pred = (y_proba > 0.5).astype(int)"
   ]
  },
  {
   "cell_type": "code",
   "execution_count": 85,
   "id": "ideal-entertainment",
   "metadata": {},
   "outputs": [
    {
     "name": "stdout",
     "output_type": "stream",
     "text": [
      "              precision    recall  f1-score   support\n",
      "\n",
      "           0       0.87      0.89      0.88       435\n",
      "           1       0.96      0.94      0.95      1063\n",
      "\n",
      "    accuracy                           0.93      1498\n",
      "   macro avg       0.91      0.92      0.92      1498\n",
      "weighted avg       0.93      0.93      0.93      1498\n",
      "\n"
     ]
    }
   ],
   "source": [
    "print(classification_report(y_test, y_pred))"
   ]
  },
  {
   "cell_type": "code",
   "execution_count": 90,
   "id": "random-sudan",
   "metadata": {},
   "outputs": [
    {
     "data": {
      "image/png": "[encoded data removed]",
      "text/plain": [
       "<Figure size 432x288 with 1 Axes>"
      ]
     },
     "metadata": {},
     "output_type": "display_data"
    }
   ],
   "source": [
    "# confusion matrix\n",
    "plot_confusion_matrix(y_test, y_pred)"
   ]
  },
  {
   "cell_type": "markdown",
   "id": "correct-camping",
   "metadata": {},
   "source": [
    "### Regression Model\n",
    "\n",
    "- Regression model to predict the solubility in LogS scale"
   ]
  },
  {
   "cell_type": "code",
   "execution_count": 52,
   "id": "rental-relationship",
   "metadata": {},
   "outputs": [],
   "source": [
    "y = df0.Solubility\n",
    "X = df0.drop(columns=[\"ID\", \"Solubility\", \"isSoluble\"])"
   ]
  },
  {
   "cell_type": "code",
   "execution_count": 53,
   "id": "cathedral-vessel",
   "metadata": {},
   "outputs": [],
   "source": [
    "X_train, X_test, y_train, y_test = train_test_split(X, y, test_size=0.15)"
   ]
  },
  {
   "cell_type": "code",
   "execution_count": 54,
   "id": "scheduled-spine",
   "metadata": {},
   "outputs": [],
   "source": [
    "train_data = Dataset(X_train, label=y_train)\n",
    "test_data = Dataset(X_test, label=y_test)"
   ]
  },
  {
   "cell_type": "code",
   "execution_count": 55,
   "id": "vietnamese-glucose",
   "metadata": {},
   "outputs": [],
   "source": [
    "params = {\n",
    "            \"objective\": \"regression\",\n",
    "            \"is_unbalance\": \"true\",\n",
    "            \"boosting_type\": \"dart\",\n",
    "            \"bagging_ratio\": 0.6,\n",
    "            \"feature_fraction\": 0.6,\n",
    "            \"metric\": [\"mse\"],\n",
    "        }"
   ]
  },
  {
   "cell_type": "code",
   "execution_count": 56,
   "id": "thrown-order",
   "metadata": {},
   "outputs": [
    {
     "name": "stdout",
     "output_type": "stream",
     "text": [
      "[LightGBM] [Warning] Unknown parameter: bagging_ratio\n",
      "[LightGBM] [Warning] Unknown parameter: bagging_ratio\n",
      "[LightGBM] [Warning] Auto-choosing col-wise multi-threading, the overhead of testing was 0.007252 seconds.\n",
      "You can set `force_col_wise=true` to remove the overhead.\n",
      "[LightGBM] [Info] Total Bins 23569\n",
      "[LightGBM] [Info] Number of data points in the train set: 8484, number of used features: 121\n",
      "[LightGBM] [Warning] Unknown parameter: bagging_ratio\n",
      "[LightGBM] [Info] Start training from score -2.882983\n",
      "[100]\ttraining's l2: 0.911509\tvalid_0's l2: 1.31921\n",
      "[200]\ttraining's l2: 0.629966\tvalid_0's l2: 1.12976\n",
      "[300]\ttraining's l2: 0.48399\tvalid_0's l2: 1.07821\n",
      "[400]\ttraining's l2: 0.385419\tvalid_0's l2: 1.03844\n",
      "[500]\ttraining's l2: 0.315071\tvalid_0's l2: 1.01301\n",
      "[600]\ttraining's l2: 0.301533\tvalid_0's l2: 1.01059\n",
      "[700]\ttraining's l2: 0.255276\tvalid_0's l2: 1.00273\n",
      "[800]\ttraining's l2: 0.236421\tvalid_0's l2: 0.994131\n",
      "[900]\ttraining's l2: 0.20532\tvalid_0's l2: 0.989956\n",
      "[1000]\ttraining's l2: 0.189573\tvalid_0's l2: 0.994694\n",
      "[1100]\ttraining's l2: 0.171598\tvalid_0's l2: 0.991505\n",
      "[1200]\ttraining's l2: 0.164596\tvalid_0's l2: 0.985924\n"
     ]
    }
   ],
   "source": [
    "model = lgb.train(params=params,\n",
    "                 train_set=train_data,\n",
    "                 valid_sets=[test_data, train_data],\n",
    "                  num_boost_round=1200,\n",
    "                  verbose_eval=100\n",
    "                 )"
   ]
  },
  {
   "cell_type": "code",
   "execution_count": 57,
   "id": "marine-salon",
   "metadata": {},
   "outputs": [],
   "source": [
    "y_proba = model.predict(X_test)"
   ]
  },
  {
   "cell_type": "code",
   "execution_count": 62,
   "id": "brazilian-banking",
   "metadata": {},
   "outputs": [
    {
     "data": {
      "image/png": "[encoded data removed]",
      "text/plain": [
       "<Figure size 432x288 with 1 Axes>"
      ]
     },
     "metadata": {
      "needs_background": "light"
     },
     "output_type": "display_data"
    }
   ],
   "source": [
    "tmp = pd.DataFrame(data={\"y_true\":  y_test, \"y_proba\": y_proba})\n",
    "sns.scatterplot(x=\"y_true\", y=\"y_proba\", data=tmp);\n",
    "plt.xlabel(\"True Solubility (LogS)\")\n",
    "plt.ylabel(\"Predicted Solubility (LogS)\");"
   ]
  },
  {
   "cell_type": "code",
   "execution_count": 75,
   "id": "enormous-defensive",
   "metadata": {},
   "outputs": [
    {
     "data": {
      "text/plain": [
       "(0.9859244030790442, 0.6616740158182908)"
      ]
     },
     "execution_count": 75,
     "metadata": {},
     "output_type": "execute_result"
    }
   ],
   "source": [
    "mean_squared_error(y_test, y_proba), mean_absolute_error(y_test, y_proba)"
   ]
  },
  {
   "cell_type": "code",
   "execution_count": null,
   "id": "coral-boutique",
   "metadata": {},
   "outputs": [],
   "source": []
  }
 ],
 "metadata": {
  "kernelspec": {
   "display_name": "Python 3",
   "language": "python",
   "name": "python3"
  },
  "language_info": {
   "codemirror_mode": {
    "name": "ipython",
    "version": 3
   },
   "file_extension": ".py",
   "mimetype": "text/x-python",
   "name": "python",
   "nbconvert_exporter": "python",
   "pygments_lexer": "ipython3",
   "version": "3.7.7"
  }
 },
 "nbformat": 4,
 "nbformat_minor": 5
}
