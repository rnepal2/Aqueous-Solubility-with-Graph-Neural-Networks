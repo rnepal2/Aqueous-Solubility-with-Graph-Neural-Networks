{
 "cells": [
  {
   "cell_type": "markdown",
   "id": "supreme-delhi",
   "metadata": {},
   "source": [
    "### GCN Model"
   ]
  },
  {
   "cell_type": "code",
   "execution_count": 1,
   "id": "prescription-satin",
   "metadata": {},
   "outputs": [],
   "source": [
    "# libraries\n",
    "import os, math\n",
    "import numpy as np\n",
    "import pandas as pd\n",
    "from tqdm.notebook import tqdm\n",
    "import torch\n",
    "from torch_geometric.data import DataLoader\n",
    "\n",
    "import matplotlib.pyplot as plt\n",
    "import seaborn as sns\n",
    "from sklearn.metrics import roc_auc_score, classification_report, confusion_matrix\n",
    "\n",
    "# pytorch\n",
    "import torch\n",
    "import torch.nn.functional as F \n",
    "from torch.nn import Linear\n",
    "from torch_geometric.nn import GCNConv, GATConv\n",
    "from torch_geometric.nn import global_mean_pool as gap\n",
    "from torch_geometric.nn import global_max_pool as gmp\n",
    "\n",
    "# from local files\n",
    "from custom_dataset import MoleculeDataset\n",
    "from model import GCN, GAT\n",
    "from trainer import Trainer\n",
    "from utils import optimal_cutoff, draw_roc_curve, plot_confusion_matrix, summerize_results"
   ]
  },
  {
   "cell_type": "code",
   "execution_count": 2,
   "id": "laden-christmas",
   "metadata": {},
   "outputs": [
    {
     "name": "stdout",
     "output_type": "stream",
     "text": [
      "Device:  cpu\n"
     ]
    }
   ],
   "source": [
    "device = torch.device(\"cuda:0\" if torch.cuda.is_available() else \"cpu\")\n",
    "print(\"Device: \", device)"
   ]
  },
  {
   "cell_type": "code",
   "execution_count": 3,
   "id": "thorough-legislature",
   "metadata": {},
   "outputs": [],
   "source": [
    "batch_size = 64"
   ]
  },
  {
   "cell_type": "code",
   "execution_count": 4,
   "id": "friendly-cliff",
   "metadata": {},
   "outputs": [],
   "source": [
    "train_dataset = MoleculeDataset(root=\"Dataset/\", filename=\"solubility-dataset-train.csv\")\n",
    "test_dataset = MoleculeDataset(root=\"Dataset/\", filename=\"solubility-dataset-test.csv\", test=True)"
   ]
  },
  {
   "cell_type": "code",
   "execution_count": 5,
   "id": "static-brunswick",
   "metadata": {},
   "outputs": [],
   "source": [
    "train_loader = DataLoader(train_dataset, batch_size=batch_size)\n",
    "test_loader = DataLoader(test_dataset, batch_size=batch_size)"
   ]
  },
  {
   "cell_type": "code",
   "execution_count": 6,
   "id": "adolescent-space",
   "metadata": {},
   "outputs": [
    {
     "data": {
      "text/plain": [
       "(8847, 986)"
      ]
     },
     "execution_count": 6,
     "metadata": {},
     "output_type": "execute_result"
    }
   ],
   "source": [
    "train_loader.dataset.length, test_loader.dataset.length"
   ]
  },
  {
   "cell_type": "code",
   "execution_count": 7,
   "id": "selected-mixture",
   "metadata": {},
   "outputs": [],
   "source": [
    "def get_true_test_labels(test_loader):\n",
    "    y_true_list = []\n",
    "    for data in test_loader:\n",
    "        ys = data.y.flatten()\n",
    "        y_true_list.extend(list(ys.cpu().detach().numpy()))\n",
    "    return np.array(y_true_list)"
   ]
  },
  {
   "cell_type": "code",
   "execution_count": 8,
   "id": "threatened-breach",
   "metadata": {},
   "outputs": [],
   "source": [
    "# Train and evaluate GCN model\n",
    "def train_evaluate(params):\n",
    "    \n",
    "    hidden_channels = params[\"hidden_channels\"]\n",
    "    dropout = params[\"dropout\"]\n",
    "    lr = params[\"lr\"]\n",
    "    #momentum = params.get(\"momentum\", 0.9)\n",
    "    weight_decay = params[\"weight_decay\"]\n",
    "    epochs = params[\"n_epochs\"]\n",
    "    \n",
    "    model = GCN(n_features=30, hidden_channels=hidden_channels, dropout=dropout)\n",
    "    model.to(device)\n",
    "    \n",
    "    optimizer = torch.optim.Adam(model.parameters(), lr=lr, weight_decay=weight_decay)\n",
    "    trainer = Trainer(model=model, optimizer=optimizer, train_loader=train_loader, valid_loader=test_loader)\n",
    "    \n",
    "    # training\n",
    "    (train_losses, train_scores), (valid_losses, valid_scores) = trainer.run(n_epochs=epochs)\n",
    "    \n",
    "    # prediction on test/valid loader\n",
    "    y_proba = trainer.predict(test_loader)\n",
    "    y_true = get_true_test_labels(test_loader=test_loader)\n",
    "    test_auc = roc_auc_score(y_true, y_proba)\n",
    "    return (train_losses, train_scores), (valid_losses, valid_scores), (y_true, y_proba)"
   ]
  },
  {
   "cell_type": "code",
   "execution_count": 9,
   "id": "scenic-economy",
   "metadata": {},
   "outputs": [
    {
     "data": {
      "application/vnd.jupyter.widget-view+json": {
       "model_id": "21aab3cf14c94052a8a3957c3f6a7e31",
       "version_major": 2,
       "version_minor": 0
      },
      "text/plain": [
       "  0%|          | 0/139 [00:00<?, ?it/s]"
      ]
     },
     "metadata": {},
     "output_type": "display_data"
    },
    {
     "data": {
      "application/vnd.jupyter.widget-view+json": {
       "model_id": "ed74d57ecfbc4ec09b888fb27bcedf22",
       "version_major": 2,
       "version_minor": 0
      },
      "text/plain": [
       "  0%|          | 0/139 [00:00<?, ?it/s]"
      ]
     },
     "metadata": {},
     "output_type": "display_data"
    },
    {
     "data": {
      "application/vnd.jupyter.widget-view+json": {
       "model_id": "079f02c09fbf423dbf8e8f48b730b178",
       "version_major": 2,
       "version_minor": 0
      },
      "text/plain": [
       "  0%|          | 0/139 [00:00<?, ?it/s]"
      ]
     },
     "metadata": {},
     "output_type": "display_data"
    },
    {
     "data": {
      "application/vnd.jupyter.widget-view+json": {
       "model_id": "d905297c1a7c44379e70301b6d175055",
       "version_major": 2,
       "version_minor": 0
      },
      "text/plain": [
       "  0%|          | 0/139 [00:00<?, ?it/s]"
      ]
     },
     "metadata": {},
     "output_type": "display_data"
    },
    {
     "data": {
      "application/vnd.jupyter.widget-view+json": {
       "model_id": "66c201665f254025b543d4aae078502c",
       "version_major": 2,
       "version_minor": 0
      },
      "text/plain": [
       "  0%|          | 0/139 [00:00<?, ?it/s]"
      ]
     },
     "metadata": {},
     "output_type": "display_data"
    },
    {
     "data": {
      "application/vnd.jupyter.widget-view+json": {
       "model_id": "eb43db613f9346cd82ffd26cef370cb0",
       "version_major": 2,
       "version_minor": 0
      },
      "text/plain": [
       "  0%|          | 0/139 [00:00<?, ?it/s]"
      ]
     },
     "metadata": {},
     "output_type": "display_data"
    },
    {
     "data": {
      "application/vnd.jupyter.widget-view+json": {
       "model_id": "cf25b1e4721d42b5b0b31e0c2438672b",
       "version_major": 2,
       "version_minor": 0
      },
      "text/plain": [
       "  0%|          | 0/139 [00:00<?, ?it/s]"
      ]
     },
     "metadata": {},
     "output_type": "display_data"
    },
    {
     "data": {
      "application/vnd.jupyter.widget-view+json": {
       "model_id": "6861b97ec1df462497bba412a161eee0",
       "version_major": 2,
       "version_minor": 0
      },
      "text/plain": [
       "  0%|          | 0/139 [00:00<?, ?it/s]"
      ]
     },
     "metadata": {},
     "output_type": "display_data"
    },
    {
     "data": {
      "application/vnd.jupyter.widget-view+json": {
       "model_id": "41b58b8902524fefbe2fd96fc406f11b",
       "version_major": 2,
       "version_minor": 0
      },
      "text/plain": [
       "  0%|          | 0/139 [00:00<?, ?it/s]"
      ]
     },
     "metadata": {},
     "output_type": "display_data"
    },
    {
     "data": {
      "application/vnd.jupyter.widget-view+json": {
       "model_id": "35959359a93f4ef6aa4bcae75ef7b7c1",
       "version_major": 2,
       "version_minor": 0
      },
      "text/plain": [
       "  0%|          | 0/139 [00:00<?, ?it/s]"
      ]
     },
     "metadata": {},
     "output_type": "display_data"
    },
    {
     "data": {
      "application/vnd.jupyter.widget-view+json": {
       "model_id": "47e8c75c9d474e5f9ea9de820214a9c8",
       "version_major": 2,
       "version_minor": 0
      },
      "text/plain": [
       "  0%|          | 0/139 [00:00<?, ?it/s]"
      ]
     },
     "metadata": {},
     "output_type": "display_data"
    },
    {
     "data": {
      "application/vnd.jupyter.widget-view+json": {
       "model_id": "a2b610393c89491c9c97a2df898fedaf",
       "version_major": 2,
       "version_minor": 0
      },
      "text/plain": [
       "  0%|          | 0/139 [00:00<?, ?it/s]"
      ]
     },
     "metadata": {},
     "output_type": "display_data"
    },
    {
     "data": {
      "application/vnd.jupyter.widget-view+json": {
       "model_id": "2490b4f1620045a0b4840622ef8c06a4",
       "version_major": 2,
       "version_minor": 0
      },
      "text/plain": [
       "  0%|          | 0/139 [00:00<?, ?it/s]"
      ]
     },
     "metadata": {},
     "output_type": "display_data"
    },
    {
     "data": {
      "application/vnd.jupyter.widget-view+json": {
       "model_id": "66f8b4b624b44a5ea1ae52aaca18b550",
       "version_major": 2,
       "version_minor": 0
      },
      "text/plain": [
       "  0%|          | 0/139 [00:00<?, ?it/s]"
      ]
     },
     "metadata": {},
     "output_type": "display_data"
    },
    {
     "data": {
      "application/vnd.jupyter.widget-view+json": {
       "model_id": "06675e7dd5b7470d96cdd15ff3655c8c",
       "version_major": 2,
       "version_minor": 0
      },
      "text/plain": [
       "  0%|          | 0/139 [00:00<?, ?it/s]"
      ]
     },
     "metadata": {},
     "output_type": "display_data"
    },
    {
     "data": {
      "application/vnd.jupyter.widget-view+json": {
       "model_id": "188d6c83704d47269b6b0f44244911d9",
       "version_major": 2,
       "version_minor": 0
      },
      "text/plain": [
       "  0%|          | 0/139 [00:00<?, ?it/s]"
      ]
     },
     "metadata": {},
     "output_type": "display_data"
    },
    {
     "data": {
      "application/vnd.jupyter.widget-view+json": {
       "model_id": "1a1d66652ec14489b32f2167929c6c8b",
       "version_major": 2,
       "version_minor": 0
      },
      "text/plain": [
       "  0%|          | 0/139 [00:00<?, ?it/s]"
      ]
     },
     "metadata": {},
     "output_type": "display_data"
    },
    {
     "data": {
      "application/vnd.jupyter.widget-view+json": {
       "model_id": "d8c1199022a948bd85c2ed660ce26d9b",
       "version_major": 2,
       "version_minor": 0
      },
      "text/plain": [
       "  0%|          | 0/139 [00:00<?, ?it/s]"
      ]
     },
     "metadata": {},
     "output_type": "display_data"
    },
    {
     "data": {
      "application/vnd.jupyter.widget-view+json": {
       "model_id": "c3eca14c918f42108f2265d84d4852a4",
       "version_major": 2,
       "version_minor": 0
      },
      "text/plain": [
       "  0%|          | 0/139 [00:00<?, ?it/s]"
      ]
     },
     "metadata": {},
     "output_type": "display_data"
    },
    {
     "data": {
      "application/vnd.jupyter.widget-view+json": {
       "model_id": "a5a6e5fef45e4fd39ab3ec4dd09a6c6a",
       "version_major": 2,
       "version_minor": 0
      },
      "text/plain": [
       "  0%|          | 0/139 [00:00<?, ?it/s]"
      ]
     },
     "metadata": {},
     "output_type": "display_data"
    },
    {
     "data": {
      "application/vnd.jupyter.widget-view+json": {
       "model_id": "d3397506eda84a72982e88cd75734e71",
       "version_major": 2,
       "version_minor": 0
      },
      "text/plain": [
       "  0%|          | 0/139 [00:00<?, ?it/s]"
      ]
     },
     "metadata": {},
     "output_type": "display_data"
    },
    {
     "data": {
      "application/vnd.jupyter.widget-view+json": {
       "model_id": "ce8cd9f6efd14a6189151830560f9072",
       "version_major": 2,
       "version_minor": 0
      },
      "text/plain": [
       "  0%|          | 0/139 [00:00<?, ?it/s]"
      ]
     },
     "metadata": {},
     "output_type": "display_data"
    },
    {
     "data": {
      "application/vnd.jupyter.widget-view+json": {
       "model_id": "0ded23e775014dc98ad84f9b550a87ca",
       "version_major": 2,
       "version_minor": 0
      },
      "text/plain": [
       "  0%|          | 0/139 [00:00<?, ?it/s]"
      ]
     },
     "metadata": {},
     "output_type": "display_data"
    },
    {
     "data": {
      "application/vnd.jupyter.widget-view+json": {
       "model_id": "9687a20ce92a408184a66eece0d330bc",
       "version_major": 2,
       "version_minor": 0
      },
      "text/plain": [
       "  0%|          | 0/139 [00:00<?, ?it/s]"
      ]
     },
     "metadata": {},
     "output_type": "display_data"
    },
    {
     "data": {
      "application/vnd.jupyter.widget-view+json": {
       "model_id": "3d9b102ecee946c8be73c4ff12e47816",
       "version_major": 2,
       "version_minor": 0
      },
      "text/plain": [
       "  0%|          | 0/139 [00:00<?, ?it/s]"
      ]
     },
     "metadata": {},
     "output_type": "display_data"
    },
    {
     "data": {
      "application/vnd.jupyter.widget-view+json": {
       "model_id": "1311847ae8354e44a6c4e7387c129862",
       "version_major": 2,
       "version_minor": 0
      },
      "text/plain": [
       "  0%|          | 0/139 [00:00<?, ?it/s]"
      ]
     },
     "metadata": {},
     "output_type": "display_data"
    },
    {
     "data": {
      "application/vnd.jupyter.widget-view+json": {
       "model_id": "2a0c260e3fbe4d51b3fad29868849c8d",
       "version_major": 2,
       "version_minor": 0
      },
      "text/plain": [
       "  0%|          | 0/139 [00:00<?, ?it/s]"
      ]
     },
     "metadata": {},
     "output_type": "display_data"
    },
    {
     "data": {
      "application/vnd.jupyter.widget-view+json": {
       "model_id": "5a2a8a34a7104c09b84443c26dfc3b48",
       "version_major": 2,
       "version_minor": 0
      },
      "text/plain": [
       "  0%|          | 0/139 [00:00<?, ?it/s]"
      ]
     },
     "metadata": {},
     "output_type": "display_data"
    },
    {
     "data": {
      "application/vnd.jupyter.widget-view+json": {
       "model_id": "a51b9fbf9de04a1e9327fa625e5a7a81",
       "version_major": 2,
       "version_minor": 0
      },
      "text/plain": [
       "  0%|          | 0/139 [00:00<?, ?it/s]"
      ]
     },
     "metadata": {},
     "output_type": "display_data"
    },
    {
     "data": {
      "application/vnd.jupyter.widget-view+json": {
       "model_id": "a4378d8ff9f84b80ac4a6c25e8dc0912",
       "version_major": 2,
       "version_minor": 0
      },
      "text/plain": [
       "  0%|          | 0/139 [00:00<?, ?it/s]"
      ]
     },
     "metadata": {},
     "output_type": "display_data"
    },
    {
     "data": {
      "application/vnd.jupyter.widget-view+json": {
       "model_id": "795ed03cd7184f109e645adf66f38286",
       "version_major": 2,
       "version_minor": 0
      },
      "text/plain": [
       "  0%|          | 0/139 [00:00<?, ?it/s]"
      ]
     },
     "metadata": {},
     "output_type": "display_data"
    },
    {
     "data": {
      "application/vnd.jupyter.widget-view+json": {
       "model_id": "9427eea1884048dd93a82c9fb301c442",
       "version_major": 2,
       "version_minor": 0
      },
      "text/plain": [
       "  0%|          | 0/139 [00:00<?, ?it/s]"
      ]
     },
     "metadata": {},
     "output_type": "display_data"
    },
    {
     "data": {
      "application/vnd.jupyter.widget-view+json": {
       "model_id": "7f8e2c5ae23b4578af9b1d1e98cec3b8",
       "version_major": 2,
       "version_minor": 0
      },
      "text/plain": [
       "  0%|          | 0/139 [00:00<?, ?it/s]"
      ]
     },
     "metadata": {},
     "output_type": "display_data"
    },
    {
     "data": {
      "application/vnd.jupyter.widget-view+json": {
       "model_id": "c806f08578cb447eb47732a977752a58",
       "version_major": 2,
       "version_minor": 0
      },
      "text/plain": [
       "  0%|          | 0/139 [00:00<?, ?it/s]"
      ]
     },
     "metadata": {},
     "output_type": "display_data"
    },
    {
     "data": {
      "application/vnd.jupyter.widget-view+json": {
       "model_id": "525f1fd676b04fb8a4baf0855dfe3ff4",
       "version_major": 2,
       "version_minor": 0
      },
      "text/plain": [
       "  0%|          | 0/139 [00:00<?, ?it/s]"
      ]
     },
     "metadata": {},
     "output_type": "display_data"
    },
    {
     "data": {
      "application/vnd.jupyter.widget-view+json": {
       "model_id": "5da38507f50b47a8aaac7ac60afb6d44",
       "version_major": 2,
       "version_minor": 0
      },
      "text/plain": [
       "  0%|          | 0/139 [00:00<?, ?it/s]"
      ]
     },
     "metadata": {},
     "output_type": "display_data"
    },
    {
     "data": {
      "application/vnd.jupyter.widget-view+json": {
       "model_id": "2e0cdb558ee74a139642caf7a673113c",
       "version_major": 2,
       "version_minor": 0
      },
      "text/plain": [
       "  0%|          | 0/139 [00:00<?, ?it/s]"
      ]
     },
     "metadata": {},
     "output_type": "display_data"
    },
    {
     "data": {
      "application/vnd.jupyter.widget-view+json": {
       "model_id": "b1918b6d1ffe44cca247b9e28942272c",
       "version_major": 2,
       "version_minor": 0
      },
      "text/plain": [
       "  0%|          | 0/139 [00:00<?, ?it/s]"
      ]
     },
     "metadata": {},
     "output_type": "display_data"
    },
    {
     "data": {
      "application/vnd.jupyter.widget-view+json": {
       "model_id": "cdf8d346245f4851bc8a6a4e611dcee2",
       "version_major": 2,
       "version_minor": 0
      },
      "text/plain": [
       "  0%|          | 0/139 [00:00<?, ?it/s]"
      ]
     },
     "metadata": {},
     "output_type": "display_data"
    },
    {
     "data": {
      "application/vnd.jupyter.widget-view+json": {
       "model_id": "ac0d2417f98046f2881c021aab40b1b7",
       "version_major": 2,
       "version_minor": 0
      },
      "text/plain": [
       "  0%|          | 0/139 [00:00<?, ?it/s]"
      ]
     },
     "metadata": {},
     "output_type": "display_data"
    },
    {
     "data": {
      "application/vnd.jupyter.widget-view+json": {
       "model_id": "2bda176ab9d844819defe2ee982e0e9e",
       "version_major": 2,
       "version_minor": 0
      },
      "text/plain": [
       "  0%|          | 0/139 [00:00<?, ?it/s]"
      ]
     },
     "metadata": {},
     "output_type": "display_data"
    },
    {
     "data": {
      "application/vnd.jupyter.widget-view+json": {
       "model_id": "ce3dc8b7724d452bb75620139198de46",
       "version_major": 2,
       "version_minor": 0
      },
      "text/plain": [
       "  0%|          | 0/139 [00:00<?, ?it/s]"
      ]
     },
     "metadata": {},
     "output_type": "display_data"
    },
    {
     "data": {
      "application/vnd.jupyter.widget-view+json": {
       "model_id": "aa315cf762064d9f90b09de7977ee657",
       "version_major": 2,
       "version_minor": 0
      },
      "text/plain": [
       "  0%|          | 0/139 [00:00<?, ?it/s]"
      ]
     },
     "metadata": {},
     "output_type": "display_data"
    },
    {
     "data": {
      "application/vnd.jupyter.widget-view+json": {
       "model_id": "7e2a5e994ba548388f037082910f42f3",
       "version_major": 2,
       "version_minor": 0
      },
      "text/plain": [
       "  0%|          | 0/139 [00:00<?, ?it/s]"
      ]
     },
     "metadata": {},
     "output_type": "display_data"
    },
    {
     "data": {
      "application/vnd.jupyter.widget-view+json": {
       "model_id": "d3e3cbcdc98e47a4b4d3523b6073529f",
       "version_major": 2,
       "version_minor": 0
      },
      "text/plain": [
       "  0%|          | 0/139 [00:00<?, ?it/s]"
      ]
     },
     "metadata": {},
     "output_type": "display_data"
    },
    {
     "data": {
      "application/vnd.jupyter.widget-view+json": {
       "model_id": "5ba63cbd601b4bb99d4cd575fcecedd0",
       "version_major": 2,
       "version_minor": 0
      },
      "text/plain": [
       "  0%|          | 0/139 [00:00<?, ?it/s]"
      ]
     },
     "metadata": {},
     "output_type": "display_data"
    },
    {
     "data": {
      "application/vnd.jupyter.widget-view+json": {
       "model_id": "926250bdccdc418f9a0469c9d43dee73",
       "version_major": 2,
       "version_minor": 0
      },
      "text/plain": [
       "  0%|          | 0/139 [00:00<?, ?it/s]"
      ]
     },
     "metadata": {},
     "output_type": "display_data"
    },
    {
     "data": {
      "application/vnd.jupyter.widget-view+json": {
       "model_id": "f6e51075eb58437789b49bfe0e9872a3",
       "version_major": 2,
       "version_minor": 0
      },
      "text/plain": [
       "  0%|          | 0/139 [00:00<?, ?it/s]"
      ]
     },
     "metadata": {},
     "output_type": "display_data"
    },
    {
     "data": {
      "application/vnd.jupyter.widget-view+json": {
       "model_id": "b7573f638de84585868061ece50a0d97",
       "version_major": 2,
       "version_minor": 0
      },
      "text/plain": [
       "  0%|          | 0/139 [00:00<?, ?it/s]"
      ]
     },
     "metadata": {},
     "output_type": "display_data"
    },
    {
     "data": {
      "application/vnd.jupyter.widget-view+json": {
       "model_id": "14f8e1dee76343b498d2fb42bd9a2c7e",
       "version_major": 2,
       "version_minor": 0
      },
      "text/plain": [
       "  0%|          | 0/139 [00:00<?, ?it/s]"
      ]
     },
     "metadata": {},
     "output_type": "display_data"
    },
    {
     "data": {
      "application/vnd.jupyter.widget-view+json": {
       "model_id": "54afaafd137b4ae5b68cc09cea173f77",
       "version_major": 2,
       "version_minor": 0
      },
      "text/plain": [
       "  0%|          | 0/16 [00:00<?, ?it/s]"
      ]
     },
     "metadata": {},
     "output_type": "display_data"
    }
   ],
   "source": [
    "# training params\n",
    "params = {\n",
    "          \"hidden_channels\": 128, \n",
    "          \"dropout\": 0.4, \n",
    "          \"lr\": 0.01, \n",
    "          \"weight_decay\": 7e-5, \n",
    "          \"n_epochs\": 50\n",
    "         }\n",
    "\n",
    "# training and evaulation\n",
    "(train_losses, train_scores), (valid_losses, valid_scores), (y_true, y_proba) = train_evaluate(params)"
   ]
  },
  {
   "cell_type": "code",
   "execution_count": 10,
   "id": "sensitive-welcome",
   "metadata": {},
   "outputs": [],
   "source": [
    "N_EPOCHS = params[\"n_epochs\"]"
   ]
  },
  {
   "cell_type": "code",
   "execution_count": 11,
   "id": "bored-desire",
   "metadata": {},
   "outputs": [
    {
     "data": {
      "image/png": "[encoded data removed]",
      "text/plain": [
       "<Figure size 432x288 with 1 Axes>"
      ]
     },
     "metadata": {
      "needs_background": "light"
     },
     "output_type": "display_data"
    }
   ],
   "source": [
    "epoch_list = np.arange(1, N_EPOCHS+1, 1)\n",
    "\n",
    "plt.plot(epoch_list, train_scores, label=\"train\")\n",
    "plt.plot(epoch_list, valid_scores, label=\"valid\");\n",
    "plt.scatter(epoch_list, train_scores)\n",
    "plt.scatter(epoch_list, valid_scores);\n",
    "plt.legend();\n",
    "plt.ylabel(\"auc\")\n",
    "plt.xlabel(\"epoch\");"
   ]
  },
  {
   "cell_type": "code",
   "execution_count": 12,
   "id": "magnetic-campaign",
   "metadata": {},
   "outputs": [
    {
     "data": {
      "image/png": "[encoded data removed]",
      "text/plain": [
       "<Figure size 432x288 with 1 Axes>"
      ]
     },
     "metadata": {
      "needs_background": "light"
     },
     "output_type": "display_data"
    }
   ],
   "source": [
    "epoch_list = np.arange(1, N_EPOCHS+1, 1)\n",
    "plt.plot(epoch_list, train_losses, label=\"train\")\n",
    "plt.plot(epoch_list, valid_losses, label=\"valid\");\n",
    "plt.scatter(epoch_list, train_losses)\n",
    "plt.scatter(epoch_list, valid_losses);\n",
    "plt.legend();\n",
    "plt.ylabel(\"loss\")\n",
    "plt.xlabel(\"epoch\");"
   ]
  },
  {
   "cell_type": "code",
   "execution_count": 13,
   "id": "selective-wednesday",
   "metadata": {},
   "outputs": [
    {
     "data": {
      "image/png": "[encoded data removed]",
      "text/plain": [
       "<Figure size 432x288 with 1 Axes>"
      ]
     },
     "metadata": {
      "needs_background": "light"
     },
     "output_type": "display_data"
    }
   ],
   "source": [
    "tmp = pd.DataFrame(data={\"solubility\":  y_true, \"y_proba\": y_proba})\n",
    "sns.histplot(x=\"y_proba\", hue=\"solubility\", data=tmp, bins=25);"
   ]
  },
  {
   "cell_type": "code",
   "execution_count": 14,
   "id": "announced-population",
   "metadata": {},
   "outputs": [
    {
     "data": {
      "text/plain": [
       "0.69"
      ]
     },
     "execution_count": 14,
     "metadata": {},
     "output_type": "execute_result"
    }
   ],
   "source": [
    "cutoff = optimal_cutoff(y_true, y_proba)\n",
    "cutoff"
   ]
  },
  {
   "cell_type": "code",
   "execution_count": 15,
   "id": "included-height",
   "metadata": {},
   "outputs": [],
   "source": [
    "y_pred = (y_proba > cutoff-0.2).astype(int)"
   ]
  },
  {
   "cell_type": "code",
   "execution_count": 16,
   "id": "english-identity",
   "metadata": {},
   "outputs": [
    {
     "data": {
      "image/png": "[encoded data removed]",
      "text/plain": [
       "<Figure size 432x288 with 1 Axes>"
      ]
     },
     "metadata": {
      "needs_background": "light"
     },
     "output_type": "display_data"
    }
   ],
   "source": [
    "draw_roc_curve(y_true, y_proba)"
   ]
  },
  {
   "cell_type": "code",
   "execution_count": 17,
   "id": "happy-capital",
   "metadata": {},
   "outputs": [
    {
     "data": {
      "image/png": "[encoded data removed]",
      "text/plain": [
       "<Figure size 432x288 with 1 Axes>"
      ]
     },
     "metadata": {},
     "output_type": "display_data"
    }
   ],
   "source": [
    "plot_confusion_matrix(y_true, y_pred)"
   ]
  },
  {
   "cell_type": "code",
   "execution_count": 18,
   "id": "prepared-approval",
   "metadata": {},
   "outputs": [
    {
     "name": "stdout",
     "output_type": "stream",
     "text": [
      "\n",
      "=========================\n",
      "        RESULTS\n",
      "=========================\n",
      "Accuracy:  0.85\n",
      "-------------------------\n",
      "sensitivity:  0.92\n",
      "specificity:  0.68\n",
      "-------------------------\n",
      "positive predictive value:  0.87\n",
      "negative predictive value:  0.8\n",
      "-------------------------\n",
      "precision:  0.87\n",
      "recall:  0.92\n"
     ]
    }
   ],
   "source": [
    "summerize_results(y_true, y_pred)"
   ]
  },
  {
   "cell_type": "markdown",
   "id": "ignored-colonial",
   "metadata": {},
   "source": [
    "### Lastly,\n",
    "- Also, tested the GAT model, but it did rather perform slightly worse than GCN model.\n",
    "- Unexpectedly, Graph Neural Net models performed even worse than molecular descriptors based model, see the LightGBM model with RDKit Descriptors (123 different molecular properties) in separate Notebook.\n",
    "    - This paper: https://jcheminf.biomedcentral.com/articles/10.1186/s13321-020-00479-8 shows that graph based models perform at best as good as descriptor based models for molecular representation of drug molecules.\n",
    "\n",
    "\n",
    "- TODOs:\n",
    "    - Implement conformal oversampling for molecules: https://jcheminf.biomedcentral.com/articles/10.1186/s13321-020-00420-z\n",
    "    - Exhaustive hyper-parameters tuning for GCN model [it's computationally expensive to carry-out more wider search with longer epochs, it took > 12hrs in Dell XPS 15 for 50 runs each with only 20 epochs.]\n",
    "    - Regression model with GCN for aqueous solubility prediction"
   ]
  },
  {
   "cell_type": "code",
   "execution_count": null,
   "id": "governing-ideal",
   "metadata": {},
   "outputs": [],
   "source": []
  }
 ],
 "metadata": {
  "kernelspec": {
   "display_name": "Python 3",
   "language": "python",
   "name": "python3"
  },
  "language_info": {
   "codemirror_mode": {
    "name": "ipython",
    "version": 3
   },
   "file_extension": ".py",
   "mimetype": "text/x-python",
   "name": "python",
   "nbconvert_exporter": "python",
   "pygments_lexer": "ipython3",
   "version": "3.7.7"
  }
 },
 "nbformat": 4,
 "nbformat_minor": 5
}
